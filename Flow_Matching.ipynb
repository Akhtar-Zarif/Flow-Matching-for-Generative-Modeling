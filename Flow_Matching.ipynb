{
  "cells": [
    {
      "cell_type": "markdown",
      "metadata": {
        "id": "view-in-github",
        "colab_type": "text"
      },
      "source": [
        "<a href=\"https://colab.research.google.com/github/gle-bellier/flow-matching/blob/main/Flow_Matching.ipynb\" target=\"_parent\"><img src=\"https://colab.research.google.com/assets/colab-badge.svg\" alt=\"Open In Colab\"/></a>"
      ]
    },
    {
      "cell_type": "markdown",
      "metadata": {
        "id": "Ln6lNwXtIl_G"
      },
      "source": [
        "# Flow Matching\n",
        "_notebook by Georges Le Bellier_  - [Twitter](https://twitter.com/gle_bellier), [Website](https://gle-bellier.github.io)\n"
      ]
    },
    {
      "cell_type": "markdown",
      "metadata": {
        "id": "Uhh45Iolt-Ky"
      },
      "source": [
        "This notebook centers around the **Flow Matching for Generative Modeling** article [1] and proposes an implementation of Flow Matching in the case of _Optimal Transport conditional Vector Fields_. The implementation proposed in [2] was consulted and it inspired the use of the _Zuko_ [3] package for ODE solving and sampling. Moreover, this notebook adopts the notations of the original article and thus the numbers of the equations are the same as in the paper.\n",
        "\n",
        "## References:\n",
        "\n",
        "📄 [1] **Flow Matching for Generative Modeling** by Yaron Lipman, Ricky T. Q. Chen, Heli Ben-Hamu, Maximilian Nickel, Matt Le - [Article](https://arxiv.org/abs/2210.02747)\n",
        "\n",
        "🐍 [2] **Flow Matching in 100 LOC** by François Rozet - [Implementation](https://gist.github.com/francois-rozet/fd6a820e052157f8ac6e2aa39e16c1aa)\n",
        "\n",
        "🐍 [3] **Zuko** package - [Website](https://zuko.readthedocs.io/en/stable/index.html)"
      ]
    },
    {
      "cell_type": "markdown",
      "metadata": {
        "id": "iQNuNue1mdN7"
      },
      "source": [
        "## Introduction\n",
        "\n",
        "$$\n",
        "\\mathcal{L}_{FM}(\\theta) = \\mathbb{E}_{t, p_t(x)} \\lVert v_t(x) - u_t(x) \\rVert^2 \\tag{5}\n",
        "$$\n",
        "$$\n",
        "\\mathcal{L}_{CFM}(\\theta) = \\mathbb{E}_{t, q(x_1), p_t(x|x_1)} \\lVert v_t(x) - u_t(x|x_1) \\rVert^2 \\tag{9}\n",
        "$$ \n",
        "\n",
        "$$\n",
        "p_t(x|x_1) = \\mathcal{N}(x | \\mu_t(x_1), \\sigma_t(x_1)^2I) \\tag{10}\n",
        "$$\n",
        "\n",
        "$$ \n",
        "  \\psi_t(x) = \\sigma_t(x_1)x + \\mu_t(x_1) \\tag{11}\n",
        "$$\n",
        "\n",
        "$$\n",
        "\\frac{d}{dt}\\psi_t(x) = u_t(\\psi_t(x)|x_1) \\tag{13}\n",
        "$$\n",
        "\n",
        "$$\n",
        "\\mathcal{L}_{CFM}(\\theta) = \\mathbb{E}_{t, q(x_1), p(x_0)} \\big\\lVert v_t(\\psi_t(x_0)) - \\frac{d}{dt}\\psi_t(x_0) \\big\\rVert^2 \\tag{14}\n",
        "$$\n",
        "\n",
        "\n",
        "$$\n",
        "\\mathcal{L}_{CFM}(\\theta) = \\mathbb{E}_{t, q(x_1), p(x_0)} \\big\\lVert v_t(\\psi_t(x_0)) - (x_1 - (1 - \\sigma_{min})x_0) \\big\\rVert^2 \\tag{23}\n",
        "$$\n",
        "\n",
        "\n",
        "\n"
      ]
    },
    {
      "cell_type": "code",
      "execution_count": 63,
      "metadata": {
        "id": "fOTJ1mwJDR8y",
        "cellView": "form"
      },
      "outputs": [],
      "source": [
        "#@title ⚠️ TODO: imports\n",
        "%%capture \n",
        "!pip install zuko\n",
        "!pip install torchdiffeq\n",
        "\n",
        "import matplotlib.pyplot as plt\n",
        "import torch\n",
        "import torch.nn as nn\n",
        "\n",
        "from sklearn.datasets import make_moons\n",
        "from sklearn.preprocessing import StandardScaler\n",
        "from torch import Tensor\n",
        "from torch.distributions import Normal\n",
        "from torch.utils.data import TensorDataset, DataLoader\n",
        "from zuko.utils import odeint\n",
        "from tqdm import tqdm\n",
        "from typing import *\n",
        "import numpy as np\n",
        "import pandas as pd"
      ]
    },
    {
      "cell_type": "markdown",
      "metadata": {
        "id": "ruFBhLGxuxfA"
      },
      "source": [
        "## Optimal Transport conditional Vector Fields:"
      ]
    },
    {
      "cell_type": "code",
      "execution_count": 64,
      "metadata": {
        "id": "li2ynn-5vhzV"
      },
      "outputs": [],
      "source": [
        "class OTFlowMatching:\n",
        "  \n",
        "  def __init__(self, sig_min: float = 0.001) -> None:\n",
        "    super().__init__()\n",
        "    self.sig_min = sig_min"
      ]
    },
    {
      "cell_type": "markdown",
      "metadata": {
        "id": "L2737wxMvsyP"
      },
      "source": [
        "$$\n",
        "\\psi_t(x) = (1 - (1 - \\sigma_{min})t)x + tx_1 \\tag{22}\n",
        "$$\n"
      ]
    },
    {
      "cell_type": "code",
      "execution_count": 65,
      "metadata": {
        "id": "AarEQZ2tvwj0"
      },
      "outputs": [],
      "source": [
        "  def psi_t(self, x: torch.Tensor, x_1: torch.Tensor, t: torch.Tensor) -> torch.Tensor:\n",
        "    \"\"\" Conditional Flow\n",
        "    \"\"\"\n",
        "    t = t[:, None].expand(x.shape)\n",
        "    return (1 - (1 - self.sig_min) * t) * x + t * x_1"
      ]
    },
    {
      "cell_type": "markdown",
      "metadata": {
        "id": "v0n8sBJCv7yk"
      },
      "source": [
        "$$\n",
        "\\mathcal{L}_{CPM}(\\theta) = \\mathbb{E}_{t, q(x_1), p(x_0)} \\big\\lVert v_t(\\psi_t(x_0)) - \\frac{d}{dt}\\psi_t(x_0) \\big\\rVert^2 \\tag{14}\n",
        "$$\n",
        "\n",
        "$$\n",
        "\\mathcal{L}_{CPM}(\\theta) = \\mathbb{E}_{t, q(x_1), p(x_0)} \\big\\lVert v_t(\\psi_t(x_0)) - (x_1 - (1 - \\sigma_{min})x_0) \\big\\rVert^2 \\tag{23}\n",
        "$$\n",
        "\n"
      ]
    },
    {
      "cell_type": "code",
      "execution_count": 66,
      "metadata": {
        "id": "zAFdnQ7Ov4T3"
      },
      "outputs": [],
      "source": [
        "  def loss(self, v_t: nn.Module, x_0: torch.Tensor, x_1: torch.Tensor, t: torch.Tensor) -> torch.Tensor:\n",
        "    \"\"\" Compute loss\n",
        "    \"\"\" \n",
        "    v_psi = v_t(t, self.psi_t(x_0, x_1, t))\n",
        "    d_psi = x_1 - (1 - self.sig_min) * x_0\n",
        "    return torch.mean((v_psi - d_psi) ** 2)"
      ]
    },
    {
      "cell_type": "markdown",
      "metadata": {
        "id": "fG2Wszit0RVI"
      },
      "source": [
        "Summary:"
      ]
    },
    {
      "cell_type": "code",
      "execution_count": 67,
      "metadata": {
        "id": "rhMwA-BJIrd3"
      },
      "outputs": [],
      "source": [
        "class OTFlowMatching:\n",
        "  \n",
        "  def __init__(self, sig_min: float = 0.001) -> None:\n",
        "    super().__init__()\n",
        "    self.sig_min = sig_min\n",
        "\n",
        "  def psi_t(self, x: torch.Tensor, x_1: torch.Tensor, t: torch.Tensor) -> torch.Tensor:\n",
        "    \"\"\" Conditional Flow\n",
        "    \"\"\"\n",
        "    t = t[:, None].expand(x.shape)\n",
        "    return (1 - (1 - self.sig_min) * t) * x + t * x_1\n",
        "\n",
        "  def loss(self, v_t: nn.Module, x_0: torch.Tensor, x_1: torch.Tensor, t: torch.Tensor) -> torch.Tensor:\n",
        "    \"\"\" Compute loss\n",
        "    \"\"\" \n",
        "    v_psi = v_t(t, self.psi_t(x_0, x_1, t))\n",
        "    d_psi = x_1 - (1 - self.sig_min) * x_0\n",
        "    return torch.mean((v_psi - d_psi) ** 2)"
      ]
    },
    {
      "cell_type": "markdown",
      "metadata": {
        "id": "qoZPnVR100VV"
      },
      "source": [
        "## Conditional Vector Field:"
      ]
    },
    {
      "cell_type": "markdown",
      "source": [
        "We add the ```CondVF```  class which aims to model the _Optimal Transport Conditional Vector Field_ $v_t$. This approximation $v_{t}(\\;⋅\\;;\\theta)$ of the true $v_t$ will be optimized later in this notebook by tuning the parameters $\\theta$ of ```CondVF.net```. "
      ],
      "metadata": {
        "id": "QSFsu6cc9dGT"
      }
    },
    {
      "cell_type": "code",
      "execution_count": 68,
      "metadata": {
        "id": "RHVJ1cNz1T2X"
      },
      "outputs": [],
      "source": [
        "class CondVF(nn.Module):\n",
        "  def __init__(self, net: nn.Module) -> None:\n",
        "    super().__init__()\n",
        "    self.net = net"
      ]
    },
    {
      "cell_type": "code",
      "execution_count": 69,
      "metadata": {
        "id": "sgsc7aPk1f7S"
      },
      "outputs": [],
      "source": [
        "  def forward(self, t: torch.Tensor, x: torch.Tensor) -> torch.Tensor:\n",
        "    return self.net(t, x)"
      ]
    },
    {
      "cell_type": "markdown",
      "source": [
        "Furthermore, we define the ```encode``` and ```decode``` functions:\n",
        "- ```encode``` maps the data distribtion $q(x_1)$ to the prior distribution $p(x_0)$.\n",
        "- ```decode``` maps the prior distribution $p(x_0)$ to the data distribtion $q(x_1)$.\n",
        "\n",
        "The article mentions that the flow $\\phi_t$ verifies the following equations:\n",
        "$$\n",
        "\\begin{cases}\n",
        "  \\frac{d}{dt}\\phi_t(x) = v_t(\\phi_t(x))\\\\ \n",
        "  \\phi_0(x) = x \\tag{1, 2}\\\\\n",
        "\\end{cases}\n",
        "$$\n",
        "\n",
        "Thus, to ```encode``` we will integrate the first equation from $t=1$ to $t=0$ and the ```decode``` function will be the same but going from $t=0$ to $t=1$. Following François Rozet's implementation and side notes [2], we use the function ```odeint``` from the _Zuko_ package [3]. We build a small ```wrapper``` which only aims at providing time tensor with the correct shapes to the neural network ```net``` when using ```odeint```."
      ],
      "metadata": {
        "id": "iR3EgmPhDjpN"
      }
    },
    {
      "cell_type": "code",
      "execution_count": 70,
      "metadata": {
        "id": "8Oz-xPWr1iJw"
      },
      "outputs": [],
      "source": [
        "  def wrapper(self, t: torch.Tensor, x: torch.Tensor):\n",
        "      t = t * torch.ones(len(x))\n",
        "      return self(t, x)\n",
        "\n",
        "  def encode(self, x_1: torch.Tensor) -> torch.Tensor:\n",
        "    return odeint(self.wrapper, x_1, 1., 0., self.parameters())\n",
        "\n",
        "  def decode(self, x_0: torch.Tensor) -> Tensor:\n",
        "    return odeint(self.wrapper, x_0, 0., 1., self.parameters())"
      ]
    },
    {
      "cell_type": "markdown",
      "metadata": {
        "id": "Yeyf0UfU1Voc"
      },
      "source": [
        "Summary:"
      ]
    },
    {
      "cell_type": "code",
      "execution_count": 71,
      "metadata": {
        "id": "RqH-PUY6UCBR"
      },
      "outputs": [],
      "source": [
        "class CondVF(nn.Module):\n",
        "  def __init__(self, net: nn.Module, n_steps: int = 100) -> None:\n",
        "    super().__init__()\n",
        "    self.net = net\n",
        "\n",
        "  def forward(self, t: torch.Tensor, x: torch.Tensor) -> torch.Tensor:\n",
        "    return self.net(t, x)\n",
        "    \n",
        "  def wrapper(self, t: torch.Tensor, x: torch.Tensor) -> torch.Tensor:\n",
        "      t = t * torch.ones(len(x))\n",
        "      return self(t, x)\n",
        "\n",
        "  def encode(self, x_1: torch.Tensor) -> torch.Tensor:\n",
        "    return odeint(self.wrapper, x_1, 1., 0., self.parameters())\n",
        "\n",
        "  def decode(self, x_0: torch.Tensor) -> torch.Tensor:\n",
        "    return odeint(self.wrapper, x_0, 0., 1., self.parameters())"
      ]
    },
    {
      "cell_type": "markdown",
      "metadata": {
        "id": "NlDlHJya188e"
      },
      "source": [
        "## Neural Network for VF approximation:"
      ]
    },
    {
      "cell_type": "markdown",
      "source": [
        "We want to approximate $v_t$ with a parametric model $v_{t}(\\;\\cdot\\;;\\theta)$. Since we deal with point coordinates and want to keep the neural network simple for this example, we will use a simple _Multilayer Perceptron_ (MLP)."
      ],
      "metadata": {
        "id": "MyIp8CfWbOoJ"
      }
    },
    {
      "cell_type": "code",
      "execution_count": 72,
      "metadata": {
        "id": "8S1Pl8IH5OfY"
      },
      "outputs": [],
      "source": [
        "class Net(nn.Module):\n",
        "  def __init__(self, in_dim: int, out_dim: int, h_dims: List[int], n_frequencies: int) -> None:\n",
        "    super().__init__()\n",
        "\n",
        "    ins = [in_dim + 2 * n_frequencies] + h_dims\n",
        "    outs = h_dims + [out_dim]\n",
        "    self.n_frequencies = n_frequencies\n",
        "\n",
        "    self.layers = nn.ModuleList([\n",
        "        nn.Sequential(nn.Linear(in_d, out_d), nn.LeakyReLU()) for in_d, out_d in zip(ins, outs)\n",
        "    ])\n",
        "    self.top = nn.Sequential(nn.Linear(out_dim, out_dim))"
      ]
    },
    {
      "cell_type": "markdown",
      "source": [
        " However the vector field $v$ is conditioned on time $t$. We create a _sinusoidal positional encoding_ of $t$ thanks to sine and cosine functions."
      ],
      "metadata": {
        "id": "YPte-sZAdxCH"
      }
    },
    {
      "cell_type": "code",
      "execution_count": 73,
      "metadata": {
        "id": "1tca5p1H5R3x"
      },
      "outputs": [],
      "source": [
        "  def time_encoder(self, t: torch.Tensor) -> torch.Tensor:\n",
        "    freq = 2 * torch.arange(self.n_frequencies) * torch.pi\n",
        "    t = freq * t[..., None]\n",
        "    return torch.cat((t.cos(), t.sin()), dim=-1)"
      ]
    },
    {
      "cell_type": "markdown",
      "source": [
        "When computing $v_t(x)$ we simply concatenate the _sinusoidale positional encoding_ of $t$ with $x$ (input coordinates), and then process the input tensor with the MLP's layers."
      ],
      "metadata": {
        "id": "gO6ZkwyTgGCu"
      }
    },
    {
      "cell_type": "code",
      "execution_count": 74,
      "metadata": {
        "id": "yjML0fFn5UIm"
      },
      "outputs": [],
      "source": [
        "  def forward(self, t: torch.Tensor, x: torch.Tensor) -> torch.Tensor:\n",
        "    t = self.time_encoder(t)\n",
        "    x = torch.cat((x, t), dim=-1)\n",
        "    for l in self.layers:\n",
        "      x = l(x)\n",
        "    return "
      ]
    },
    {
      "cell_type": "markdown",
      "metadata": {
        "id": "rtiKSLmq5VEt"
      },
      "source": [
        "Summary: please run this cell which contains the Net class."
      ]
    },
    {
      "cell_type": "code",
      "execution_count": 75,
      "metadata": {
        "id": "BA-LgtoEeN4a"
      },
      "outputs": [],
      "source": [
        "class Net(nn.Module):\n",
        "  def __init__(self, in_dim: int, out_dim: int, h_dims: List[int], n_frequencies) -> None:\n",
        "    super().__init__()\n",
        "\n",
        "    ins = [in_dim + 2 * n_frequencies] + h_dims\n",
        "    outs = h_dims + [out_dim]\n",
        "    self.n_frequencies = n_frequencies\n",
        "\n",
        "    self.layers = nn.ModuleList([\n",
        "        nn.Sequential(nn.Linear(in_d, out_d), nn.LeakyReLU()) for in_d, out_d in zip(ins, outs)\n",
        "    ])\n",
        "    self.top = nn.Sequential(nn.Linear(out_dim, out_dim))\n",
        "  \n",
        "  def time_encoder(self, t: torch.Tensor) -> torch.Tensor:\n",
        "    freq = 2 * torch.arange(self.n_frequencies) * torch.pi\n",
        "    t = freq * t[..., None]\n",
        "    return torch.cat((t.cos(), t.sin()), dim=-1)\n",
        "    \n",
        "  def forward(self, t: torch.Tensor, x: torch.Tensor) -> torch.Tensor:\n",
        "    t = self.time_encoder(t)\n",
        "    x = torch.cat((x, t), dim=-1)\n",
        "    \n",
        "    for l in self.layers:\n",
        "      x = l(x)\n",
        "    return x"
      ]
    },
    {
      "cell_type": "markdown",
      "metadata": {
        "id": "iyrny-eMIdJK"
      },
      "source": [
        "## Create dataset\n",
        "\n",
        "For this notebook we will consider a 2D-dataset and we choose a standard dataset: the _half-moon dataset_. This defines the distribution $q(x_1)$ over the  $\\mathbb{R}^2$ data space, _i.e._ the data points are described by two coordinates $x = (a, b)$. We sample a large number ```n_points``` of data points from $q(x_1)$ to build the dataset and we plot them. In addition, in this work we consider a simple gaussian _prior distribution_:\n",
        "$$\n",
        "p(x) = \\mathcal{N}(x|0, I)\n",
        "$$"
      ]
    },
    {
      "cell_type": "code",
      "execution_count": 76,
      "metadata": {
        "colab": {
          "base_uri": "https://localhost:8080/",
          "height": 265
        },
        "id": "bWzZjcEzHheU",
        "outputId": "52b728fc-5447-408f-ab6d-9f104a385596"
      },
      "outputs": [
        {
          "output_type": "display_data",
          "data": {
            "text/plain": [
              "<Figure size 432x288 with 1 Axes>"
            ],
            "image/png": "[encoded data removed]"
          },
          "metadata": {
            "needs_background": "light"
          }
        }
      ],
      "source": [
        "n_points = 10_000\n",
        "data, _ = make_moons(n_points, noise=0.05)\n",
        "# center dataset\n",
        "data = StandardScaler().fit_transform(data)\n",
        "\n",
        "%matplotlib inline\n",
        "plt.hist2d(data[:, 0], data[:, 1], bins=64)\n",
        "plt.show()"
      ]
    },
    {
      "cell_type": "markdown",
      "source": [
        "We then transform the data points into a ```pytorch.utils.data.DataLoader``` to facilitate data handling. We choose a ```batch_size``` of $512$."
      ],
      "metadata": {
        "id": "8dBLSaZ4rOKn"
      }
    },
    {
      "cell_type": "code",
      "execution_count": 77,
      "metadata": {
        "id": "EPCtsiJcHmFr"
      },
      "outputs": [],
      "source": [
        "batch_size = 512\n",
        "dataset = torch.from_numpy(data).float()\n",
        "dataset = TensorDataset(dataset) \n",
        "dataloader = DataLoader(dataset, batch_size=batch_size)"
      ]
    },
    {
      "cell_type": "markdown",
      "metadata": {
        "id": "PzQXJmYJ6jIf"
      },
      "source": [
        "## Training:"
      ]
    },
    {
      "cell_type": "markdown",
      "source": [
        "During the training, we need to compute the _Continuous Flow Matching_ Loss:\n",
        "$$\n",
        "\\mathcal{L}_{CPM}(\\theta) = \\mathbb{E}_{t, q(x_1), p(x_0)} \\big\\lVert v_t(\\psi_t(x_0)) - (x_1 - (1 - \\sigma_{min})x_0) \\big\\rVert^2 \\tag{23}\n",
        "$$\n",
        "Then we sample $x_1 \\sim q(x_1)$ (samples from the dataset), $x_0 \\sim p(x_0)$ (samples from the _prior distribution_) and $t \\sim \\text{Unif}([0, 1])$. It is worth noticing that we apply a little trick for time sampling since we batch covers the range $[0, 1]$ uniformly with a random offset. Then we compute an approximation of the _CFM Loss_ on the batch: \n",
        "$$\n",
        "\\mathcal{L}_{\\text{batch}}(\\theta) = \\frac{1}{N}\\sum_{i=0}^{N-1} \\big\\lVert v_t\\big(\\psi_t\\big(x_0^{(i)}\\big)\\big) - \\big(x_{1}^{(i)} - \\big(1 - \\sigma_{min}\\big)x_0^{(i)}\\big) \\big\\rVert^2\n",
        "$$\n"
      ],
      "metadata": {
        "id": "tuZBpMQ2q48w"
      }
    },
    {
      "cell_type": "code",
      "execution_count": 78,
      "metadata": {
        "id": "hEUuG1Kn61Ky"
      },
      "outputs": [],
      "source": [
        "def training_loss(fm_loss: Callable, v_t: Callable, batch: torch.Tensor) -> torch.Tensor:\n",
        "      # x_1 ~ q(x_1)\n",
        "      x_1 = batch[0]\n",
        "      # x_0 ~ p(x_0)\n",
        "      x_0 = torch.randn_like(x_1)\n",
        "      # t ~ U([0, 1])\n",
        "      # simple sampling:\n",
        "      # t = torch.rand(len(x_1),)\n",
        "      # trick:\n",
        "      t = (torch.rand(1) + torch.arange(len(x_0)) / len(x_0)) % 1\n",
        "      \n",
        "      return fm_loss(v_t, x_0, x_1, t)"
      ]
    },
    {
      "cell_type": "markdown",
      "source": [
        "We train the neural network using the ```AdamW``` optimizer (Adam optimizer with _weight decay_) with a _learning rate_ $lr = 10^{-3}$ during $N = 500$ epochs:"
      ],
      "metadata": {
        "id": "dmWvMupS0DlH"
      }
    },
    {
      "cell_type": "code",
      "execution_count": 79,
      "metadata": {
        "colab": {
          "base_uri": "https://localhost:8080/"
        },
        "id": "rd83qQF8xodk",
        "outputId": "e0067beb-ab35-4370-8a00-76e69d04532f"
      },
      "outputs": [
        {
          "output_type": "stream",
          "name": "stderr",
          "text": [
            "100%|█████████████████████████████████████████████████| 500/500 [03:01<00:00,  2.76it/s]\n"
          ]
        }
      ],
      "source": [
        "fm = OTFlowMatching()\n",
        "net = Net(2, 2, [32, 128, 256, 128, 64], 10)\n",
        "v_t = CondVF(net)    \n",
        "    \n",
        "# configure optimizer\n",
        "optimizer = torch.optim.AdamW(v_t.parameters(), lr=1e-3)\n",
        "n_epochs = 500\n",
        "    \n",
        "for epoch in tqdm(range(n_epochs), ncols=88):\n",
        "    for batch in dataloader: \n",
        "      # compute loss \n",
        "      loss = training_loss(fm.loss, v_t, batch)\n",
        "      optimizer.zero_grad()\n",
        "      loss.backward()\n",
        "      optimizer.step()"
      ]
    },
    {
      "cell_type": "markdown",
      "metadata": {
        "id": "azqtOY0S8Cr9"
      },
      "source": [
        "## Sampling:"
      ]
    },
    {
      "cell_type": "markdown",
      "source": [
        "To sample $\\hat{x}_{1} \\sim q(x_1)$ we first sample $x_0 \\sim p(x)$, _i.e._ we take samples from the _prior distribution_ and then apply the ```decode``` function from the ```CondVF``` class. This step may take several minutes depending on the ```n_samples``` chosen."
      ],
      "metadata": {
        "id": "g7yvvByh33b4"
      }
    },
    {
      "cell_type": "code",
      "execution_count": 85,
      "metadata": {
        "id": "4VEyOyy91Wju"
      },
      "outputs": [],
      "source": [
        "# Sampling\n",
        "n_samples = 10_000\n",
        "with torch.no_grad():\n",
        "    x_0 = torch.randn(n_samples, 2)\n",
        "    x_1_hat = v_t.decode(x_0)"
      ]
    },
    {
      "cell_type": "markdown",
      "source": [
        "Last, we plot the samples $\\hat{x}_1$ distribution:"
      ],
      "metadata": {
        "id": "5hsDf_TD6J_j"
      }
    },
    {
      "cell_type": "code",
      "execution_count": 84,
      "metadata": {
        "colab": {
          "base_uri": "https://localhost:8080/",
          "height": 265
        },
        "id": "l_NPXHeSNg8Y",
        "outputId": "3e2cb000-19f9-4897-b962-542e75421089"
      },
      "outputs": [
        {
          "output_type": "display_data",
          "data": {
            "text/plain": [
              "<Figure size 432x288 with 1 Axes>"
            ],
            "image/png": "[encoded data removed]"
          },
          "metadata": {
            "needs_background": "light"
          }
        }
      ],
      "source": [
        "%matplotlib inline\n",
        "import matplotlib.pyplot as plt\n",
        "x_1_hat = x_1_hat.numpy()\n",
        "plt.hist2d(x_1_hat[:, 0], x_1_hat[:, 1], bins=64)\n",
        "plt.show()"
      ]
    }
  ],
  "metadata": {
    "colab": {
      "provenance": [],
      "authorship_tag": "ABX9TyPNFeKE7zKZNR1Iv+zVgpxt",
      "include_colab_link": true
    },
    "kernelspec": {
      "display_name": "Python 3",
      "name": "python3"
    },
    "language_info": {
      "name": "python"
    }
  },
  "nbformat": 4,
  "nbformat_minor": 0
}